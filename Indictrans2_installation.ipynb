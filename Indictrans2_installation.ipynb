{
 "cells": [
  {
   "cell_type": "code",
   "execution_count": null,
   "id": "2330fb71-2669-420a-99d8-5850754b9984",
   "metadata": {},
   "outputs": [],
   "source": [
    "\"\"\"\n",
    "%%capture\n",
    "!git clone https://github.com/AI4Bharat/IndicTrans2.git\n",
    "\"\"\""
   ]
  },
  {
   "cell_type": "code",
   "execution_count": null,
   "id": "14e88f63-da28-4acb-9da0-62aa7edea819",
   "metadata": {},
   "outputs": [],
   "source": [
    "\"\"\"\n",
    "%%capture\n",
    "%cd /content/IndicTrans2/huggingface_interface\n",
    "\"\"\""
   ]
  },
  {
   "cell_type": "code",
   "execution_count": null,
   "id": "a2ade015-7037-4272-8cc1-1577ea2e0761",
   "metadata": {},
   "outputs": [],
   "source": [
    "\"\"\"\n",
    "%%capture\n",
    "!python3 -m pip install nltk sacremoses pandas regex mock transformers>=4.33.2 mosestokenizer\n",
    "!python3 -c \"import nltk; nltk.download('punkt')\"\n",
    "!python3 -m pip install bitsandbytes scipy accelerate datasets\n",
    "!python3 -m pip install sentencepiece\n",
    "\n",
    "!git clone https://github.com/VarunGumma/IndicTransToolkit.git\n",
    "%cd IndicTransToolkit\n",
    "!python3 -m pip install --editable ./\n",
    "%cd ..\n",
    "\"\"\""
   ]
  },
  {
   "cell_type": "code",
   "execution_count": null,
   "id": "10dd1e06-ab01-4188-99bb-7e4e4b6b76ec",
   "metadata": {},
   "outputs": [],
   "source": []
  }
 ],
 "metadata": {
  "kernelspec": {
   "display_name": "Python 3 (ipykernel)",
   "language": "python",
   "name": "python3"
  },
  "language_info": {
   "codemirror_mode": {
    "name": "ipython",
    "version": 3
   },
   "file_extension": ".py",
   "mimetype": "text/x-python",
   "name": "python",
   "nbconvert_exporter": "python",
   "pygments_lexer": "ipython3",
   "version": "3.12.7"
  }
 },
 "nbformat": 4,
 "nbformat_minor": 5
}
