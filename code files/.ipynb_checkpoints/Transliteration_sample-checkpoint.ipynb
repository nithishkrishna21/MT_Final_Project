{
 "cells": [
  {
   "cell_type": "code",
   "execution_count": 1,
   "id": "f8f470a6-cf12-49e7-9fb6-6ebb65efc00a",
   "metadata": {},
   "outputs": [],
   "source": [
    "sample_text = 'Trailer late ah parthavanga like podunga'"
   ]
  },
  {
   "cell_type": "code",
   "execution_count": 2,
   "id": "cdd94811-5325-48d0-a14a-a8ec264f473f",
   "metadata": {},
   "outputs": [],
   "source": [
    "# The path to the local git repo for Indic NLP library\n",
    "INDIC_NLP_LIB_HOME=r\"C:\\Johns Hopkins\\sem1\\Machine Translation\\MT Final Project\\IndicTrans2\\indic_nlp_library\"\n",
    "\n",
    "# The path to the local git repo for Indic NLP Resources\n",
    "INDIC_NLP_RESOURCES=r\"C:\\Johns Hopkins\\sem1\\Machine Translation\\MT Final Project\\IndicTrans2\\indic_nlp_resources\""
   ]
  },
  {
   "cell_type": "code",
   "execution_count": 3,
   "id": "549b6815-895f-407d-ab6a-512f1e7cb066",
   "metadata": {},
   "outputs": [],
   "source": [
    "import sys\n",
    "sys.path.append(r'{}'.format(INDIC_NLP_LIB_HOME))"
   ]
  },
  {
   "cell_type": "code",
   "execution_count": 4,
   "id": "d9d920ca-7801-455b-b908-f4ec7f33e9a1",
   "metadata": {},
   "outputs": [],
   "source": [
    "from indicnlp import common\n",
    "common.set_resources_path(INDIC_NLP_RESOURCES)"
   ]
  },
  {
   "cell_type": "code",
   "execution_count": 5,
   "id": "4690f916-0774-4f8c-b870-a325a1ef3bf2",
   "metadata": {},
   "outputs": [],
   "source": [
    "from indicnlp import loader\n",
    "loader.load()"
   ]
  },
  {
   "cell_type": "code",
   "execution_count": 6,
   "id": "d323bec9-ccc8-4262-83a0-5d2150fa1483",
   "metadata": {},
   "outputs": [
    {
     "data": {
      "text/plain": [
       "'\\nfrom indicnlp.normalize.indic_normalize import IndicNormalizerFactory\\n\\ninput_text=\"क़ क़\"\\nremove_nuktas=False\\nfactory=IndicNormalizerFactory()\\nnormalizer=factory.get_normalizer(\"hi\",remove_nuktas)\\noutput_text=normalizer.normalize(input_text)\\n\\nprint(input_text)\\nprint()\\n\\nprint(\\'Before normalization\\')\\nprint(\\' \\'.join([ hex(ord(c)) for c in input_text ] ))\\nprint(\\'Length: {}\\'.format(len(input_text)))\\nprint()    \\nprint(\\'After normalization\\')\\nprint(\\' \\'.join([ hex(ord(c)) for c in output_text ] ))\\nprint(\\'Length: {}\\'.format(len(output_text)))    \\n'"
      ]
     },
     "execution_count": 6,
     "metadata": {},
     "output_type": "execute_result"
    }
   ],
   "source": [
    "\"\"\"\n",
    "from indicnlp.normalize.indic_normalize import IndicNormalizerFactory\n",
    "\n",
    "input_text=\"\\u0958 \\u0915\\u093c\"\n",
    "remove_nuktas=False\n",
    "factory=IndicNormalizerFactory()\n",
    "normalizer=factory.get_normalizer(\"hi\",remove_nuktas)\n",
    "output_text=normalizer.normalize(input_text)\n",
    "\n",
    "print(input_text)\n",
    "print()\n",
    "\n",
    "print('Before normalization')\n",
    "print(' '.join([ hex(ord(c)) for c in input_text ] ))\n",
    "print('Length: {}'.format(len(input_text)))\n",
    "print()    \n",
    "print('After normalization')\n",
    "print(' '.join([ hex(ord(c)) for c in output_text ] ))\n",
    "print('Length: {}'.format(len(output_text)))    \n",
    "\"\"\""
   ]
  },
  {
   "cell_type": "code",
   "execution_count": 7,
   "id": "ea6d93e4-0d63-4205-97f2-110742cbc2ee",
   "metadata": {},
   "outputs": [
    {
     "name": "stdout",
     "output_type": "stream",
     "text": [
      "तो क्या विश्व कप 2019 में मैच का बॉस टॉस है?\n",
      "यानी मैच में हार-जीत में टॉस की भूमिका अहम है?\n",
      "आप ऐसा सोच सकते हैं।\n",
      "विश्वकप के अपने-अपने पहले मैच में बुरी तरह हारने वाली एशिया की दो टीमों पाकिस्तान और श्रीलंका के कप्तान ने हालांकि अपने हार के पीछे टॉस की दलील तो नहीं दी, लेकिन यह जरूर कहा था कि वह एक अहम टॉस हार गए थे।\n"
     ]
    }
   ],
   "source": [
    "from indicnlp.tokenize import sentence_tokenize\n",
    "\n",
    "indic_string=\"\"\"तो क्या विश्व कप 2019 में मैच का बॉस टॉस है? यानी मैच में हार-जीत में \\\n",
    "टॉस की भूमिका अहम है? आप ऐसा सोच सकते हैं। विश्वकप के अपने-अपने पहले मैच में बुरी तरह हारने वाली एशिया की दो टीमों \\\n",
    "पाकिस्तान और श्रीलंका के कप्तान ने हालांकि अपने हार के पीछे टॉस की दलील तो नहीं दी, लेकिन यह जरूर कहा था कि वह एक अहम टॉस हार गए थे।\"\"\"\n",
    "sentences=sentence_tokenize.sentence_split(indic_string, lang='hi')\n",
    "for t in sentences:\n",
    "    print(t)"
   ]
  },
  {
   "cell_type": "code",
   "execution_count": 8,
   "id": "dadb0058-605d-48ac-8951-d85e0a8055ba",
   "metadata": {},
   "outputs": [
    {
     "name": "stdout",
     "output_type": "stream",
     "text": [
      "Input String: सुनो, कुछ आवाज़ आ रही है। फोन?\n",
      "Tokens: \n",
      "सुनो\n",
      ",\n",
      "कुछ\n",
      "आवाज़\n",
      "आ\n",
      "रही\n",
      "है\n",
      "।\n",
      "फोन\n",
      "?\n"
     ]
    }
   ],
   "source": [
    "from indicnlp.tokenize import indic_tokenize  \n",
    "\n",
    "indic_string='सुनो, कुछ आवाज़ आ रही है। फोन?'\n",
    "\n",
    "print('Input String: {}'.format(indic_string))\n",
    "print('Tokens: ')\n",
    "for t in indic_tokenize.trivial_tokenize(indic_string): \n",
    "    print(t)"
   ]
  },
  {
   "cell_type": "code",
   "execution_count": 9,
   "id": "9b14cdc2-c101-455e-b858-5bdd066866e1",
   "metadata": {},
   "outputs": [
    {
     "name": "stdout",
     "output_type": "stream",
     "text": [
      "Input String: \" सुनो , कुछ आवाज़ आ रही है . \" , उसने कहा । \n",
      "Detokenized String: \"सुनो, कुछ आवाज़ आ रही है.\", उसने कहा। \n"
     ]
    }
   ],
   "source": [
    "from indicnlp.tokenize import indic_detokenize  \n",
    "indic_string='\" सुनो , कुछ आवाज़ आ रही है . \" , उसने कहा । '\n",
    "\n",
    "print('Input String: {}'.format(indic_string))\n",
    "print('Detokenized String: {}'.format(indic_detokenize.trivial_detokenize(indic_string,lang='hi')))"
   ]
  },
  {
   "cell_type": "code",
   "execution_count": 10,
   "id": "cd427394-f7d3-46a1-a4dd-4a77d37e5948",
   "metadata": {},
   "outputs": [
    {
     "name": "stdout",
     "output_type": "stream",
     "text": [
      "ராஜஸ்தாந\n"
     ]
    }
   ],
   "source": [
    "from indicnlp.transliterate.unicode_transliterate import UnicodeIndicTransliterator\n",
    "input_text='राजस्थान'\n",
    "# input_text='രാജസ്ഥാന'\n",
    "# input_text='රාජස්ථාන'\n",
    "print(UnicodeIndicTransliterator.transliterate(input_text,\"hi\",\"ta\"))"
   ]
  },
  {
   "cell_type": "code",
   "execution_count": 11,
   "id": "b4a7d59f-141c-476a-978e-2a985d0812a7",
   "metadata": {},
   "outputs": [
    {
     "name": "stdout",
     "output_type": "stream",
     "text": [
      "raajasthaana\n"
     ]
    }
   ],
   "source": [
    "from indicnlp.transliterate.unicode_transliterate import ItransTransliterator\n",
    "\n",
    "input_text='राजस्थान'\n",
    "# input_text='ஆசிரியர்கள்'\n",
    "lang='hi'\n",
    "\n",
    "print(ItransTransliterator.to_itrans(input_text,lang))"
   ]
  },
  {
   "cell_type": "code",
   "execution_count": 12,
   "id": "212205cb-caa8-4e66-a4a4-87e94599ef11",
   "metadata": {},
   "outputs": [
    {
     "name": "stdout",
     "output_type": "stream",
     "text": [
      "പാലക്കാദ\n",
      "d2a\n",
      "d3e\n",
      "d32\n",
      "d15\n",
      "d4d\n",
      "d15\n",
      "d3e\n",
      "d26\n"
     ]
    }
   ],
   "source": [
    "from indicnlp.transliterate.unicode_transliterate import ItransTransliterator\n",
    "\n",
    "input_text='pAlakkAda'\n",
    "# input_text='pitL^In'\n",
    "lang='ml'\n",
    "x=ItransTransliterator.from_itrans(input_text,lang)\n",
    "print(x)\n",
    "for y in x:\n",
    "    print('{:x}'.format(ord(y)))"
   ]
  },
  {
   "cell_type": "code",
   "execution_count": 13,
   "id": "170a43e0-e3a2-45bd-905e-3eef64c6b034",
   "metadata": {},
   "outputs": [
    {
     "name": "stdout",
     "output_type": "stream",
     "text": [
      "Testing using AI4Bharath indicnlp transliteration model\n",
      "\n",
      "Original Code mized text : Trailer late ah parthavanga like podunga\n",
      "Transliterated to Tamil : ட்ரைலேர் லதே அஹ் பர்஥வந்஗ லிகே போ஦ுந்஗\n",
      "Transliterated to Hindi : ट्रैलेर् लते अह् पर्थवन्ग लिके पोदुन्ग\n"
     ]
    }
   ],
   "source": [
    "from indicnlp.transliterate.unicode_transliterate import ItransTransliterator\n",
    "\n",
    "# input_text='राजस्थान'\n",
    "# input_text='ஆசிரியர்கள்'\n",
    "\n",
    "sample_text = 'Trailer late ah parthavanga like podunga'\n",
    "print(\"Testing using AI4Bharath indicnlp transliteration model\\n\")\n",
    "print('Original Code mized text :', sample_text)\n",
    "print('Transliterated to Tamil :', ItransTransliterator.from_itrans(sample_text,'ta'))\n",
    "print('Transliterated to Hindi :', ItransTransliterator.from_itrans(sample_text,'hi'))"
   ]
  },
  {
   "cell_type": "code",
   "execution_count": 14,
   "id": "d36ea93b-af1d-42e2-85d5-0d4f9b686619",
   "metadata": {},
   "outputs": [
    {
     "name": "stdout",
     "output_type": "stream",
     "text": [
      "Testing using indic-trans transliteration model\n",
      "\n",
      "Original Code mized text : Trailer late ah parthavanga like podunga\n",
      "Transliterated to Tamil : ட்ரைலேர் லேத்த் அ பார்தாவங்கா லைக் போதுங்கா\n",
      "Transliterated to Hindi : ट्रेलेर लते आह पार्तावांगा लीके पोड़ूँगा\n"
     ]
    }
   ],
   "source": [
    "from indictrans import Transliterator\n",
    "trn1 = Transliterator(source='eng', target='tam', build_lookup=True)\n",
    "trn2 = Transliterator(source='eng', target='hin', build_lookup=True)\n",
    "print(\"Testing using indic-trans transliteration model\\n\")\n",
    "print('Original Code mized text :', sample_text)\n",
    "print('Transliterated to Tamil :', trn1.transform(sample_text))\n",
    "print('Transliterated to Hindi :', trn2.transform(sample_text))"
   ]
  },
  {
   "cell_type": "code",
   "execution_count": null,
   "id": "59b3bede-7c75-461e-a760-8b25e6e1c706",
   "metadata": {},
   "outputs": [],
   "source": []
  }
 ],
 "metadata": {
  "kernelspec": {
   "display_name": "Python 3 (ipykernel)",
   "language": "python",
   "name": "python3"
  },
  "language_info": {
   "codemirror_mode": {
    "name": "ipython",
    "version": 3
   },
   "file_extension": ".py",
   "mimetype": "text/x-python",
   "name": "python",
   "nbconvert_exporter": "python",
   "pygments_lexer": "ipython3",
   "version": "3.12.7"
  }
 },
 "nbformat": 4,
 "nbformat_minor": 5
}
