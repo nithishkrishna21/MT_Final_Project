{
 "cells": [
  {
   "cell_type": "code",
   "execution_count": 1,
   "id": "388fa52f-ad73-49fc-b45a-e8325c8739ac",
   "metadata": {},
   "outputs": [
    {
     "name": "stdout",
     "output_type": "stream",
     "text": [
      "   Page ID  revision ID                                           base URL  \\\n",
      "0   163057       503808  http://hi.wikipedia.org/wiki/%E0%A4%B9%E0%A5%8...   \n",
      "1     9260      4139596  http://hi.wikipedia.org/wiki/%E0%A4%86%E0%A4%A...   \n",
      "2    38084      3373281  http://hi.wikipedia.org/wiki/%E0%A4%B9%E0%A5%8...   \n",
      "3   981346      4021421  http://hi.wikipedia.org/wiki/14_%E0%A4%B0%E0%A...   \n",
      "4   147851      3755019  http://hi.wikipedia.org/wiki/%E0%A4%AE%E0%A4%B...   \n",
      "\n",
      "                                URL with revision ID  \n",
      "0  http://hi.wikipedia.org/w/index.php?title=%E0%...  \n",
      "1  http://hi.wikipedia.org/w/index.php?title=%E0%...  \n",
      "2  http://hi.wikipedia.org/w/index.php?title=%E0%...  \n",
      "3  http://hi.wikipedia.org/w/index.php?title=14_%...  \n",
      "4  http://hi.wikipedia.org/w/index.php?title=%E0%...  \n"
     ]
    }
   ],
   "source": [
    "import pandas as pd\n",
    "\n",
    "column_names = ['Page ID', 'revision ID', 'base URL', 'URL with revision ID']\n",
    "# Replace 'your_file.tsv.gz' with the actual file path\n",
    "df = pd.read_csv(\"../dakshina_dataset_v1.0/hi/native_script_wikipedia/hi.wiki-full.urls.tsv.gz\", sep='\\t', compression='gzip', header = None, names = column_names)\n",
    "\n",
    "# Display the first few rows to check\n",
    "print(df.head())"
   ]
  },
  {
   "cell_type": "code",
   "execution_count": 2,
   "id": "8c918e03-180f-422a-a390-d2b9b5431b8f",
   "metadata": {},
   "outputs": [
    {
     "data": {
      "text/plain": [
       "0         163057\n",
       "1           9260\n",
       "2          38084\n",
       "3         981346\n",
       "4         147851\n",
       "           ...  \n",
       "239117     27846\n",
       "239118    740050\n",
       "239119    454252\n",
       "239120    570127\n",
       "239121    491746\n",
       "Name: Page ID, Length: 239122, dtype: int64"
      ]
     },
     "execution_count": 2,
     "metadata": {},
     "output_type": "execute_result"
    }
   ],
   "source": [
    "df['Page ID']"
   ]
  },
  {
   "cell_type": "code",
   "execution_count": 3,
   "id": "bce688fc-61ef-496c-93a1-fc2594f4ac7d",
   "metadata": {},
   "outputs": [
    {
     "name": "stdout",
     "output_type": "stream",
     "text": [
      "   Page Index\n",
      "0           1\n",
      "1           2\n",
      "2          19\n",
      "3          54\n",
      "4          57\n"
     ]
    }
   ],
   "source": [
    "\n",
    "\n",
    "# Replace 'your_file.tsv.gz' with the actual file path\n",
    "column_names = ['Page Index']\n",
    "omitted_indices = pd.read_csv(\"../dakshina_dataset_v1.0/hi/native_script_wikipedia/hi.wiki-full.omit_pages.txt.gz\", sep='\\t', compression='gzip', header=None, names = column_names)\n",
    "\n",
    "# Display the first few rows to check\n",
    "print(omitted_indices.head())"
   ]
  },
  {
   "cell_type": "code",
   "execution_count": 4,
   "id": "24149474-df48-4eea-9f6f-8b38e42d6017",
   "metadata": {},
   "outputs": [
    {
     "data": {
      "text/html": [
       "<div>\n",
       "<style scoped>\n",
       "    .dataframe tbody tr th:only-of-type {\n",
       "        vertical-align: middle;\n",
       "    }\n",
       "\n",
       "    .dataframe tbody tr th {\n",
       "        vertical-align: top;\n",
       "    }\n",
       "\n",
       "    .dataframe thead th {\n",
       "        text-align: right;\n",
       "    }\n",
       "</style>\n",
       "<table border=\"1\" class=\"dataframe\">\n",
       "  <thead>\n",
       "    <tr style=\"text-align: right;\">\n",
       "      <th></th>\n",
       "      <th>Page Index</th>\n",
       "    </tr>\n",
       "  </thead>\n",
       "  <tbody>\n",
       "    <tr>\n",
       "      <th>0</th>\n",
       "      <td>1</td>\n",
       "    </tr>\n",
       "    <tr>\n",
       "      <th>1</th>\n",
       "      <td>2</td>\n",
       "    </tr>\n",
       "    <tr>\n",
       "      <th>2</th>\n",
       "      <td>19</td>\n",
       "    </tr>\n",
       "    <tr>\n",
       "      <th>3</th>\n",
       "      <td>54</td>\n",
       "    </tr>\n",
       "    <tr>\n",
       "      <th>4</th>\n",
       "      <td>57</td>\n",
       "    </tr>\n",
       "    <tr>\n",
       "      <th>...</th>\n",
       "      <td>...</td>\n",
       "    </tr>\n",
       "    <tr>\n",
       "      <th>148724</th>\n",
       "      <td>1024796</td>\n",
       "    </tr>\n",
       "    <tr>\n",
       "      <th>148725</th>\n",
       "      <td>1024879</td>\n",
       "    </tr>\n",
       "    <tr>\n",
       "      <th>148726</th>\n",
       "      <td>1024882</td>\n",
       "    </tr>\n",
       "    <tr>\n",
       "      <th>148727</th>\n",
       "      <td>1024948</td>\n",
       "    </tr>\n",
       "    <tr>\n",
       "      <th>148728</th>\n",
       "      <td>1025022</td>\n",
       "    </tr>\n",
       "  </tbody>\n",
       "</table>\n",
       "<p>148729 rows × 1 columns</p>\n",
       "</div>"
      ],
      "text/plain": [
       "        Page Index\n",
       "0                1\n",
       "1                2\n",
       "2               19\n",
       "3               54\n",
       "4               57\n",
       "...            ...\n",
       "148724     1024796\n",
       "148725     1024879\n",
       "148726     1024882\n",
       "148727     1024948\n",
       "148728     1025022\n",
       "\n",
       "[148729 rows x 1 columns]"
      ]
     },
     "execution_count": 4,
     "metadata": {},
     "output_type": "execute_result"
    }
   ],
   "source": [
    "omitted_indices"
   ]
  },
  {
   "cell_type": "code",
   "execution_count": 11,
   "id": "def6aa5f-6a61-4a4f-a409-314077683add",
   "metadata": {},
   "outputs": [
    {
     "name": "stdout",
     "output_type": "stream",
     "text": [
      "0                                                                             http://hi.wikipedia.org/wiki/%E0%A4%B9%E0%A5%8B%E0%A4%AE%E0%A5%8D%E0%A4%AF%E0%A5%8B%E0%A4%AA%E0%A5%88%E0%A4%A5%E0%A5%80_%E0%A4%9A%E0%A4%BF%E0%A4%95%E0%A4%BF%E0%A4%A4%E0%A5%8D%E0%A4%B8%E0%A4%BE\n",
      "1                                                                                                                                                                                                   http://hi.wikipedia.org/wiki/%E0%A4%86%E0%A4%A4%E0%A5%8D%E0%A4%AE%E0%A4%BE\n",
      "2                                                                                                                                    http://hi.wikipedia.org/wiki/%E0%A4%B9%E0%A5%87_%E0%A4%B0%E0%A4%BE%E0%A4%AE_(2000_%E0%A4%AB%E0%A4%BC%E0%A4%BF%E0%A4%B2%E0%A5%8D%E0%A4%AE)\n",
      "3                                                                                                                                http://hi.wikipedia.org/wiki/14_%E0%A4%B0%E0%A5%87%E0%A4%96%E0%A4%BE%E0%A4%82%E0%A4%B6_%E0%A4%AA%E0%A4%B6%E0%A5%8D%E0%A4%9A%E0%A4%BF%E0%A4%AE\n",
      "4         http://hi.wikipedia.org/wiki/%E0%A4%AE%E0%A4%BE%E0%A4%B2%E0%A5%80%E0%A4%AA%E0%A5%81%E0%A4%B0_%E0%A4%97%E0%A4%BE%E0%A4%81%E0%A4%B5,_%E0%A4%97%E0%A4%A2%E0%A4%AA%E0%A5%81%E0%A4%B0%E0%A4%BE_(%E0%A4%AC%E0%A5%87%E0%A4%97%E0%A5%82%E0%A4%B8%E0%A4%B0%E0%A4%BE%E0%A4%AF)\n",
      "                                                                                                                                          ...                                                                                                                                 \n",
      "239117                                                                                                                              http://hi.wikipedia.org/wiki/%E0%A4%95%E0%A5%8B%E0%A4%B8%E0%A5%80_%E0%A4%AA%E0%A4%B0%E0%A4%BF%E0%A4%AF%E0%A5%8B%E0%A4%9C%E0%A4%A8%E0%A4%BE\n",
      "239118                                                                                                                                                http://hi.wikipedia.org/wiki/%E0%A4%95%E0%A5%81%E0%A4%82%E0%A4%AD%E0%A4%BE%E0%A4%B0_%E0%A4%9A%E0%A4%95%E0%A5%8D%E0%A4%B0\n",
      "239119                                                                                                                                                             http://hi.wikipedia.org/wiki/1539_%E0%A4%88%E0%A4%B8%E0%A4%BE_%E0%A4%AA%E0%A5%82%E0%A4%B0%E0%A5%8D%E0%A4%B5\n",
      "239120                                             http://hi.wikipedia.org/wiki/%E0%A4%8F%E0%A4%A8%E0%A5%B0%E0%A4%A1%E0%A5%80%E0%A5%B0_%E0%A4%B8%E0%A5%81%E0%A4%A8%E0%A5%8D%E0%A4%A6%E0%A4%B0%E0%A4%BE%E0%A4%B5%E0%A4%BE%E0%A4%A6%E0%A4%BF%E0%A4%B5%E0%A5%87%E0%A4%B2%E0%A5%81\n",
      "239121                                                                                                                                                                                                                http://hi.wikipedia.org/wiki/%E0%A4%B9%E0%A5%89%E0%A4%AA\n",
      "Name: base URL, Length: 239122, dtype: object\n"
     ]
    }
   ],
   "source": [
    "omitted_page_indices_set = set(omitted_indices)\n",
    "\n",
    "# Create a list to store the indices that are not omitted\n",
    "non_omitted_indices = []\n",
    "\n",
    "# Iterate through each index in df and check if it's in the omitted_indices set\n",
    "for i in range(len(df)):\n",
    "    if i not in omitted_page_indices_set:\n",
    "        non_omitted_indices.append(i)\n",
    "\n",
    "# Now, create a new DataFrame that only contains non-omitted rows\n",
    "filtered_df = df.iloc[non_omitted_indices]\n",
    "pd.set_option('display.max_colwidth', None)\n",
    "# Display the filtered DataFrame\n",
    "print(filtered_df['base URL'])"
   ]
  },
  {
   "cell_type": "code",
   "execution_count": null,
   "id": "3cc9b419-8879-44de-930c-49df3f50593b",
   "metadata": {},
   "outputs": [],
   "source": []
  }
 ],
 "metadata": {
  "kernelspec": {
   "display_name": "Python 3 (ipykernel)",
   "language": "python",
   "name": "python3"
  },
  "language_info": {
   "codemirror_mode": {
    "name": "ipython",
    "version": 3
   },
   "file_extension": ".py",
   "mimetype": "text/x-python",
   "name": "python",
   "nbconvert_exporter": "python",
   "pygments_lexer": "ipython3",
   "version": "3.12.7"
  }
 },
 "nbformat": 4,
 "nbformat_minor": 5
}
